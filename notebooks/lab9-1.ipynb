{
 "cells": [
  {
   "cell_type": "markdown",
   "metadata": {},
   "source": [
    "# Lab 9\n",
    "## Data analysis 2\n",
    "### Task 1 Multiiple linear regression"
   ]
  },
  {
   "cell_type": "markdown",
   "metadata": {},
   "source": [
    "In this task, we will practice how to build a Multiple Linear Regression model to predict a car’s\n",
    "mpg using its displacement, horsepower, weight and acceleration. "
   ]
  },
  {
   "cell_type": "markdown",
   "metadata": {},
   "source": [
    "1. Download the data file “auto-mpg.csv” from GCULearn"
   ]
  },
  {
   "cell_type": "markdown",
   "metadata": {},
   "source": [
    "2. Import the required libraries"
   ]
  },
  {
   "cell_type": "code",
   "execution_count": 20,
   "metadata": {},
   "outputs": [],
   "source": [
    "import pandas as pd\n",
    "import numpy as np \n",
    "import matplotlib.pyplot as plt \n",
    "import seaborn as sns \n",
    "from sklearn.model_selection import train_test_split\n",
    "from sklearn.linear_model import LinearRegression\n",
    "from sklearn import metrics\n",
    "%matplotlib inline"
   ]
  },
  {
   "cell_type": "markdown",
   "metadata": {},
   "source": [
    "3. Import the ‘auto-mpg’ dataset and checking the number of rows and columns in it"
   ]
  },
  {
   "cell_type": "code",
   "execution_count": 21,
   "metadata": {},
   "outputs": [
    {
     "data": {
      "text/plain": [
       "(392, 5)"
      ]
     },
     "execution_count": 21,
     "metadata": {},
     "output_type": "execute_result"
    }
   ],
   "source": [
    "dataset = pd.read_csv('../lab9/auto-mpg.csv')\n",
    "\n",
    "dataset.shape"
   ]
  },
  {
   "cell_type": "markdown",
   "metadata": {},
   "source": [
    "4. Data exploring and pre-processing"
   ]
  },
  {
   "cell_type": "code",
   "execution_count": 22,
   "metadata": {},
   "outputs": [
    {
     "name": "stdout",
     "output_type": "stream",
     "text": [
      "displacement    float64\n",
      "horsepower        int64\n",
      "weight            int64\n",
      "acceleration    float64\n",
      "mpg             float64\n",
      "dtype: object\n",
      "   displacement  horsepower  weight  acceleration   mpg\n",
      "0         307.0         130    3504          12.0  18.0\n",
      "1         350.0         165    3693          11.5  15.0\n",
      "2         318.0         150    3436          11.0  18.0\n",
      "3         304.0         150    3433          12.0  16.0\n",
      "4         302.0         140    3449          10.5  17.0\n"
     ]
    }
   ],
   "source": [
    "print(dataset.dtypes)\n",
    "\n",
    "print(dataset.head(5))"
   ]
  },
  {
   "cell_type": "code",
   "execution_count": 23,
   "metadata": {},
   "outputs": [
    {
     "name": "stdout",
     "output_type": "stream",
     "text": [
      "number of duplicate rows:  (1, 5)\n"
     ]
    }
   ],
   "source": [
    "duplicate_rows = dataset[dataset.duplicated()]\n",
    "print(\"number of duplicate rows: \", duplicate_rows.shape)\n"
   ]
  },
  {
   "cell_type": "code",
   "execution_count": 24,
   "metadata": {},
   "outputs": [
    {
     "data": {
      "text/plain": [
       "displacement    391\n",
       "horsepower      391\n",
       "weight          391\n",
       "acceleration    391\n",
       "mpg             391\n",
       "dtype: int64"
      ]
     },
     "execution_count": 24,
     "metadata": {},
     "output_type": "execute_result"
    }
   ],
   "source": [
    "dataset = dataset.drop_duplicates()\n",
    "\n",
    "dataset.count()"
   ]
  },
  {
   "cell_type": "code",
   "execution_count": 25,
   "metadata": {},
   "outputs": [
    {
     "name": "stdout",
     "output_type": "stream",
     "text": [
      "displacement    0\n",
      "horsepower      0\n",
      "weight          0\n",
      "acceleration    0\n",
      "mpg             0\n",
      "dtype: int64\n",
      "<bound method NDFrame.describe of      displacement  horsepower  weight  acceleration   mpg\n",
      "0           307.0         130    3504          12.0  18.0\n",
      "1           350.0         165    3693          11.5  15.0\n",
      "2           318.0         150    3436          11.0  18.0\n",
      "3           304.0         150    3433          12.0  16.0\n",
      "4           302.0         140    3449          10.5  17.0\n",
      "..            ...         ...     ...           ...   ...\n",
      "387         140.0          86    2790          15.6  27.0\n",
      "388          97.0          52    2130          24.6  44.0\n",
      "389         135.0          84    2295          11.6  32.0\n",
      "390         120.0          79    2625          18.6  28.0\n",
      "391         119.0          82    2720          19.4  31.0\n",
      "\n",
      "[391 rows x 5 columns]>\n"
     ]
    }
   ],
   "source": [
    "print(dataset.isnull().sum())\n",
    "\n",
    "print(dataset.describe)"
   ]
  },
  {
   "cell_type": "markdown",
   "metadata": {},
   "source": [
    "The output shows no null value in the dataset. Also, based on the values of the\n",
    "statistics, there is no obvious invalid data in the dataset. So, no further\n",
    "processes."
   ]
  },
  {
   "cell_type": "code",
   "execution_count": 26,
   "metadata": {},
   "outputs": [
    {
     "name": "stdout",
     "output_type": "stream",
     "text": [
      "              displacement  horsepower    weight  acceleration       mpg\n",
      "displacement      1.000000    0.897444  0.932840     -0.545407 -0.805149\n",
      "horsepower        0.897444    1.000000  0.864750     -0.689898 -0.778317\n",
      "weight            0.932840    0.864750  1.000000     -0.418416 -0.832363\n",
      "acceleration     -0.545407   -0.689898 -0.418416      1.000000  0.423959\n",
      "mpg              -0.805149   -0.778317 -0.832363      0.423959  1.000000\n"
     ]
    },
    {
     "data": {
      "image/png": "[encoded data removed]",
      "text/plain": [
       "<Figure size 1440x720 with 2 Axes>"
      ]
     },
     "metadata": {
      "needs_background": "light"
     },
     "output_type": "display_data"
    }
   ],
   "source": [
    "plt.figure(figsize=(20,10))\n",
    "corl = dataset.corr()\n",
    "sns.heatmap(corl,cmap=\"BrBG\",annot=True)\n",
    "print(corl)"
   ]
  },
  {
   "cell_type": "markdown",
   "metadata": {},
   "source": [
    "The correlation coefficient in between ‘displacement’ and ‘weight’ is 0.93, which\n",
    "means these two variables are highly correlated. So in the following analysis, it is\n",
    "reasonable to include only one of these two in the input variables. "
   ]
  },
  {
   "cell_type": "markdown",
   "metadata": {},
   "source": [
    "5. Specify the input variables and the target variable.\n",
    "As mentioned above, ‘displacement’ and ‘weight’ are highly related, we exclude\n",
    "‘displacement’ from input variables. So we will use the other three variables as\n",
    "input, and ‘mpg’ as the target varaible to build a multiple linear regression\n",
    "model."
   ]
  },
  {
   "cell_type": "code",
   "execution_count": 27,
   "metadata": {},
   "outputs": [
    {
     "name": "stdout",
     "output_type": "stream",
     "text": [
      "   horsepower  weight  acceleration\n",
      "0         130    3504          12.0\n",
      "1         165    3693          11.5\n",
      "2         150    3436          11.0\n",
      "3         150    3433          12.0\n",
      "4         140    3449          10.5\n",
      "[18. 15. 18. 16. 17.]\n"
     ]
    }
   ],
   "source": [
    "# Specify the input variable X and target variable y\n",
    "x = dataset.drop(['displacement', 'mpg'], axis=1)\n",
    "y = dataset['mpg'].values\n",
    "\n",
    "# check that the first few variabes in x and y\n",
    "\n",
    "print(x.head())\n",
    "print(y[0:5])"
   ]
  },
  {
   "cell_type": "markdown",
   "metadata": {},
   "source": [
    "6. Split 80% of the data to the training dataset while 20% of the data to validation\n",
    "dataset using the ‘train_test_split’ function"
   ]
  },
  {
   "cell_type": "code",
   "execution_count": 96,
   "metadata": {},
   "outputs": [
    {
     "name": "stdout",
     "output_type": "stream",
     "text": [
      "(312, 4)\n"
     ]
    }
   ],
   "source": [
    "# Split dataset into training dataset and validation dataset:\n",
    "# 80% training and 20% validation\n",
    "\n",
    "x_train, x_vali, y_train, y_vali = train_test_split(x, y, test_size=0.2, random_state=1)\n",
    "\n",
    "print(x_train.shape)"
   ]
  },
  {
   "cell_type": "markdown",
   "metadata": {},
   "source": [
    "7. Create a multiple linear regression model using the multiple linear regression\n",
    "class provided by sklearn library.\n",
    "Then, use the ‘fit’ function and pass in the training data as parameters to fit the\n",
    "linear regression model to the training data."
   ]
  },
  {
   "cell_type": "code",
   "execution_count": 97,
   "metadata": {},
   "outputs": [
    {
     "data": {
      "text/plain": [
       "LinearRegression()"
      ]
     },
     "execution_count": 97,
     "metadata": {},
     "output_type": "execute_result"
    }
   ],
   "source": [
    "# create multiple linear regression model\n",
    "regressor = LinearRegression()\n",
    "\n",
    "# fit the regression model tot he data\n",
    "regressor.fit(x_train, y_train)"
   ]
  },
  {
   "cell_type": "markdown",
   "metadata": {},
   "source": [
    "8. In the case of multivariable linear regression, the regression model has to find\n",
    "the most optimal coefficients for all the attributes. To see what coefficients our\n",
    "regression model has chosen, execute the following script:\n"
   ]
  },
  {
   "cell_type": "code",
   "execution_count": 98,
   "metadata": {},
   "outputs": [
    {
     "name": "stdout",
     "output_type": "stream",
     "text": [
      "              Coefficiant\n",
      "displacement    -0.011444\n",
      "horsepower      -0.051931\n",
      "weight          -0.004534\n",
      "acceleration    -0.211258\n"
     ]
    }
   ],
   "source": [
    "coeff_df = pd.DataFrame(regressor.coef_, x.columns, columns=['Coefficiant'])\n",
    "\n",
    "print(coeff_df)"
   ]
  },
  {
   "cell_type": "markdown",
   "metadata": {},
   "source": [
    "9. Let's do prediction on validation data"
   ]
  },
  {
   "cell_type": "code",
   "execution_count": 99,
   "metadata": {},
   "outputs": [],
   "source": [
    "# prediction on the testing data\n",
    "y_pred = regressor.predict(x_vali)"
   ]
  },
  {
   "cell_type": "markdown",
   "metadata": {},
   "source": [
    "10. Check the difference between the actual value and predicted value"
   ]
  },
  {
   "cell_type": "code",
   "execution_count": 100,
   "metadata": {},
   "outputs": [
    {
     "name": "stdout",
     "output_type": "stream",
     "text": [
      "    Actual  Predicted\n",
      "0     12.0   6.049677\n",
      "1     22.5  22.678385\n",
      "2     29.8  31.876913\n",
      "3     15.0  14.683885\n",
      "4     12.0   9.578248\n",
      "5     23.0  26.243654\n",
      "6     22.0  25.178134\n",
      "7     18.1  20.140646\n",
      "8     11.0  15.423345\n",
      "9     21.0  22.409040\n",
      "10    30.0  29.390503\n",
      "11    17.0  19.130326\n",
      "12    24.0  26.848107\n",
      "13    24.0  25.597524\n",
      "14    14.0   9.450024\n"
     ]
    }
   ],
   "source": [
    "# check the difference between the actual values and predicted value\n",
    "\n",
    "df = pd.DataFrame({'Actual': y_vali, 'Predicted': y_pred})\n",
    "\n",
    "df1 = df.head(15)\n",
    "print(df1)"
   ]
  },
  {
   "cell_type": "markdown",
   "metadata": {},
   "source": [
    "11. Plot the comparison of Actual and Predicted values"
   ]
  },
  {
   "cell_type": "code",
   "execution_count": 101,
   "metadata": {},
   "outputs": [
    {
     "data": {
      "image/png": "[encoded data removed]",
      "text/plain": [
       "<Figure size 720x576 with 1 Axes>"
      ]
     },
     "metadata": {
      "needs_background": "light"
     },
     "output_type": "display_data"
    }
   ],
   "source": [
    "# plot the comparrison of Actual and Predicted values\n",
    "\n",
    "df1.plot(kind='bar', figsize=(10,8))\n",
    "plt.grid(which='major', linestyle='-', linewidth='0.5', color='green')\n",
    "\n",
    "plt.show()"
   ]
  },
  {
   "cell_type": "markdown",
   "metadata": {},
   "source": [
    "12. Evaluation metrics\n",
    "Evaluate the performance of the algorithm is important to compare how well\n",
    "different algorithms perform on a particular dataset. For regression algorithms,\n",
    "three evaluation metrics are commonly used:\n",
    "\n",
    "1) Mean Absolute Error (MAE) is the mean of the absolute value of the\n",
    "errors. It is calculated as:\n",
    "\n",
    "2) Mean Squared Error (MSE) is the mean of the squared errors and is\n",
    "calculated as:\n",
    "\n",
    "3) Root Mean Squared Error (RMSE) is the square root of the mean of the\n",
    "squared errors:\n",
    "\n",
    "We don’t have to perform these calculations manually. The Scikit-Learn library\n",
    "comes with pre-built functions that can be used to find out these values for us."
   ]
  },
  {
   "cell_type": "markdown",
   "metadata": {},
   "source": [
    "13. Find the values for MAE, MSE, and RMSE to evaluate the performance of the\n",
    "algorithm"
   ]
  },
  {
   "cell_type": "code",
   "execution_count": 102,
   "metadata": {},
   "outputs": [
    {
     "name": "stdout",
     "output_type": "stream",
     "text": [
      "Mean absolute error:  3.2583629628501485\n",
      "Mean squared error:  20.471413284707843\n",
      "Root mean squared:  4.524534593160698\n"
     ]
    }
   ],
   "source": [
    "# evaluation metrics\n",
    "\n",
    "print('Mean absolute error: ', metrics.mean_absolute_error(y_vali, y_pred))\n",
    "\n",
    "print('Mean squared error: ', metrics.mean_squared_error(y_vali, y_pred))\n",
    "\n",
    "print('Root mean squared: ', np.sqrt(metrics.mean_squared_error(y_vali, y_pred)))"
   ]
  },
  {
   "cell_type": "markdown",
   "metadata": {},
   "source": [
    "14. Tune the Linear Regression model\n",
    "\n",
    "As described on https://scikitlearn.org/stable/modules/generated/sklearn.linear_model.LinearRegressio\n",
    "n.html, sklearn.linear_model.LinearRegression has multiple parameters as\n",
    "shown below:\n",
    "\n",
    "In step 7, the regressor was created with all parameters set to default values.\n",
    "Now, let’s create a multiple linear regression model with ‘fit_intercept’ to be\n",
    "‘False’\n"
   ]
  },
  {
   "cell_type": "code",
   "execution_count": 103,
   "metadata": {},
   "outputs": [],
   "source": [
    "# create multiple linear regression model\n",
    "\n",
    "regressor = LinearRegression(fit_intercept=False)"
   ]
  },
  {
   "cell_type": "markdown",
   "metadata": {},
   "source": [
    "\n",
    "Re-run step 8 – 14, check how the coefficients in the trained regression model\n",
    "and the values of evolution metrics change."
   ]
  },
  {
   "cell_type": "markdown",
   "metadata": {},
   "source": [
    "15. Check the significant of feature selection\n",
    "In step 5, ‘displacement’ was excluded from input variables. Try include\n",
    "‘displacement’ in the input variables using:"
   ]
  },
  {
   "cell_type": "code",
   "execution_count": 105,
   "metadata": {},
   "outputs": [
    {
     "name": "stdout",
     "output_type": "stream",
     "text": [
      "   displacement  horsepower  weight  acceleration\n",
      "0         307.0         130    3504          12.0\n",
      "1         350.0         165    3693          11.5\n",
      "2         318.0         150    3436          11.0\n",
      "3         304.0         150    3433          12.0\n",
      "4         302.0         140    3449          10.5\n",
      "[18. 15. 18. 16. 17.]\n"
     ]
    }
   ],
   "source": [
    "# specify the input variable x and target variable y\n",
    "\n",
    "x = dataset.drop(['mpg'], axis=1)\n",
    "y = dataset['mpg'].values\n",
    "\n",
    "# check that the first few variables in x and y\n",
    "print(x.head())\n",
    "print(y[0:5])"
   ]
  }
 ],
 "metadata": {
  "interpreter": {
   "hash": "0614d55347d2583dc6bd1a768c7d288a89492254c989babe318512d0e8d86257"
  },
  "kernelspec": {
   "display_name": "Python 3.9.6 64-bit",
   "language": "python",
   "name": "python3"
  },
  "language_info": {
   "codemirror_mode": {
    "name": "ipython",
    "version": 3
   },
   "file_extension": ".py",
   "mimetype": "text/x-python",
   "name": "python",
   "nbconvert_exporter": "python",
   "pygments_lexer": "ipython3",
   "version": "3.9.6"
  },
  "orig_nbformat": 4
 },
 "nbformat": 4,
 "nbformat_minor": 2
}
