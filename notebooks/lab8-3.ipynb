{
 "cells": [
  {
   "cell_type": "markdown",
   "metadata": {},
   "source": [
    "# Lab 8\n",
    "\n",
    "## Task 3\n",
    "\n",
    "### Simple linear regression"
   ]
  },
  {
   "cell_type": "markdown",
   "metadata": {},
   "source": [
    "1. Download data file ‘insurance.csv’ from GCULearn."
   ]
  },
  {
   "cell_type": "markdown",
   "metadata": {},
   "source": [
    "2. Load the ‘insurance.csv dataset into Python as a Pandas DataFrame; and print\n",
    "summary statistics on each attribute"
   ]
  },
  {
   "cell_type": "code",
   "execution_count": 1,
   "metadata": {},
   "outputs": [
    {
     "name": "stdout",
     "output_type": "stream",
     "text": [
      "                0           1\n",
      "count   63.000000   63.000000\n",
      "mean    22.904762   98.187302\n",
      "std     23.351946   87.327553\n",
      "min      0.000000    0.000000\n",
      "25%      7.500000   38.850000\n",
      "50%     14.000000   73.400000\n",
      "75%     29.000000  140.000000\n",
      "max    124.000000  422.200000\n"
     ]
    }
   ],
   "source": [
    "from pandas import read_csv\n",
    "import matplotlib.pyplot as plt\n",
    "\n",
    "# load the dataset\n",
    "dataset = read_csv('../lab8/insurance.csv', header=None)\n",
    "\n",
    "# print the summary statistics on each attributes\n",
    "print(dataset.describe())"
   ]
  },
  {
   "cell_type": "markdown",
   "metadata": {},
   "source": [
    "3. Check the duplication"
   ]
  },
  {
   "cell_type": "code",
   "execution_count": 3,
   "metadata": {},
   "outputs": [
    {
     "name": "stdout",
     "output_type": "stream",
     "text": [
      "number of duplicate rows:  (0, 2)\n"
     ]
    }
   ],
   "source": [
    "# Rows containing duplicate data\n",
    "duplicate_rows_df = dataset[dataset.duplicated()]\n",
    "print(\"number of duplicate rows: \", duplicate_rows_df.shape)"
   ]
  },
  {
   "cell_type": "markdown",
   "metadata": {},
   "source": [
    "No duplication in this data, no further processes"
   ]
  },
  {
   "cell_type": "markdown",
   "metadata": {},
   "source": [
    "4. Specify the input variable (x) and the target variable (y), and plot the data"
   ]
  },
  {
   "cell_type": "code",
   "execution_count": 4,
   "metadata": {},
   "outputs": [
    {
     "data": {
      "text/plain": [
       "<matplotlib.collections.PathCollection at 0x2a98abf2cd0>"
      ]
     },
     "execution_count": 4,
     "metadata": {},
     "output_type": "execute_result"
    },
    {
     "data": {
      "image/png": "[encoded data removed]",
      "text/plain": [
       "<Figure size 432x288 with 1 Axes>"
      ]
     },
     "metadata": {
      "needs_background": "light"
     },
     "output_type": "display_data"
    }
   ],
   "source": [
    "# Commented out IPython magic to ensure Python compatibility.\n",
    "# specify the input variable (x) and the target variable (y)\n",
    "x = dataset[0]\n",
    "y = dataset[1]\n",
    "\n",
    "# plot the data\n",
    "# the following line is not needed in Spyder\n",
    "# %matplotlib inline\n",
    "plt.scatter(x,y)"
   ]
  },
  {
   "cell_type": "markdown",
   "metadata": {},
   "source": [
    "5. In simple linear regression, the equation for the best fitting regression line is:\n",
    "\n",
    "In order to estimate b0 and b1, we can define the following functions:"
   ]
  },
  {
   "cell_type": "code",
   "execution_count": 5,
   "metadata": {},
   "outputs": [],
   "source": [
    "## Define the funcitons to be used in the coefficient calculation\n",
    "\n",
    "# Calculate the mean value of a list of numbers\n",
    "def mean(values):\n",
    "    return sum(values) / float(len(values))\n",
    "\n",
    "# Calculate the variance of a list of numbers\n",
    "def variance(values, mean):\n",
    "    return sum([(s - mean)**2 for s in values])\n",
    "\n",
    "# Calculate covariance between x and y\n",
    "def covariance(s, mean_s, t, mean_t):\n",
    "    covar = 0.0\n",
    "    for i in range(len(s)):\n",
    "        covar += (s[i] - mean_s) * (t[i] - mean_t)\n",
    "    return covar"
   ]
  },
  {
   "cell_type": "markdown",
   "metadata": {},
   "source": [
    "So coefficients in the best regression line can be estimated using:"
   ]
  },
  {
   "cell_type": "code",
   "execution_count": 6,
   "metadata": {},
   "outputs": [],
   "source": [
    "# Function to calculate coefficients\n",
    "def coefficients(in_var, target):\n",
    "    x_mean, y_mean = mean(in_var), mean(target)\n",
    "    b1 = covariance(in_var, x_mean, target, y_mean) / variance(in_var, x_mean)\n",
    "    b0 = y_mean - b1 * x_mean\n",
    "    return [b0, b1]"
   ]
  },
  {
   "cell_type": "markdown",
   "metadata": {},
   "source": [
    "6. Using the defined ‘coefficients’ function to estimate the best regression in\n",
    "between the two variables in the ‘insurance’ dataset. "
   ]
  },
  {
   "cell_type": "code",
   "execution_count": 7,
   "metadata": {},
   "outputs": [
    {
     "name": "stdout",
     "output_type": "stream",
     "text": [
      "Coefficients: b0=19.994, b1=3.414\n",
      "The best regrssion line is: y = 19.99 + 3.41 * x\n"
     ]
    }
   ],
   "source": [
    "# estimate the best fitting regression line\n",
    "b0, b1 = coefficients(x, y)\n",
    "\n",
    "print('Coefficients: b0=%.3f, b1=%.3f' % (b0, b1))\n",
    "print('The best regrssion line is: y = %.2f + %.2f * x' % (b0, b1))"
   ]
  },
  {
   "cell_type": "markdown",
   "metadata": {},
   "source": [
    "7. Plot the best fitting line"
   ]
  },
  {
   "cell_type": "code",
   "execution_count": 8,
   "metadata": {},
   "outputs": [
    {
     "data": {
      "text/plain": [
       "<matplotlib.collections.PathCollection at 0x2a98ad04eb0>"
      ]
     },
     "execution_count": 8,
     "metadata": {},
     "output_type": "execute_result"
    },
    {
     "data": {
      "image/png": "[encoded data removed]",
      "text/plain": [
       "<Figure size 432x288 with 1 Axes>"
      ]
     },
     "metadata": {
      "needs_background": "light"
     },
     "output_type": "display_data"
    }
   ],
   "source": [
    "# in irder to plot the regression line, calculate points on the line\n",
    "x1 = range(130)\n",
    "y1 = []\n",
    "for i in x1:\n",
    "    #x1.append(i)\n",
    "    y1.append(b0 + b1*i)\n",
    "\n",
    "# plot the regression line\n",
    "plt.plot(x1,y1)\n",
    "# plot the dataset in the same figure\n",
    "plt.scatter(x,y)"
   ]
  },
  {
   "cell_type": "markdown",
   "metadata": {},
   "source": [
    "8. Once the coefficients are estimated, you can use them to make predictions (as\n",
    "shown in equation 1 above).\n",
    "\n",
    "For example, assuming in a new instance, the input variable is 85.72, and you\n",
    "can predict the value of corresponding target variable:"
   ]
  },
  {
   "cell_type": "code",
   "execution_count": 9,
   "metadata": {},
   "outputs": [
    {
     "name": "stdout",
     "output_type": "stream",
     "text": [
      "the new instacnce is: 85.72, 312.63\n"
     ]
    },
    {
     "data": {
      "text/plain": [
       "<matplotlib.collections.PathCollection at 0x2a98ad144c0>"
      ]
     },
     "execution_count": 9,
     "metadata": {},
     "output_type": "execute_result"
    },
    {
     "data": {
      "image/png": "[encoded data removed]",
      "text/plain": [
       "<Figure size 432x288 with 1 Axes>"
      ]
     },
     "metadata": {
      "needs_background": "light"
     },
     "output_type": "display_data"
    }
   ],
   "source": [
    "# assuming in a new instance: the input variable is 85.72\n",
    "x_k = 85.72\n",
    "\n",
    "# predict the value of target varible using the regression model\n",
    "y_k = b0 + b1 * x_k\n",
    "print('the new instacnce is: %.2f, %.2f' % (x_k, y_k))\n",
    "\n",
    "# plot the regression line and instances in the original dataset\n",
    "plt.plot(x1,y1)\n",
    "plt.scatter(x,y)\n",
    "\n",
    "# plot the new instance in the figure as a triangle\n",
    "plt.scatter(x_k, y_k, marker='^')"
   ]
  },
  {
   "cell_type": "markdown",
   "metadata": {},
   "source": [
    "9. Try to predict the target variable when the input variable has different value, e.g.\n",
    "42.16, 65.3, etc."
   ]
  },
  {
   "cell_type": "code",
   "execution_count": 10,
   "metadata": {},
   "outputs": [
    {
     "name": "stdout",
     "output_type": "stream",
     "text": [
      "the new instacnce is: 46.12, 177.44\n",
      "the new instacnce is: 65.30, 242.92\n"
     ]
    }
   ],
   "source": [
    "x01 = 46.12\n",
    "x02 = 65.3\n",
    "\n",
    "# predict the value of target variable using the regression model\n",
    "y01 = b0 + b1 * x01\n",
    "print('the new instacnce is: %.2f, %.2f' % (x01, y01))\n",
    "\n",
    "y02 = b0 + b1 * x02\n",
    "print('the new instacnce is: %.2f, %.2f' % (x02, y02))"
   ]
  }
 ],
 "metadata": {
  "interpreter": {
   "hash": "0614d55347d2583dc6bd1a768c7d288a89492254c989babe318512d0e8d86257"
  },
  "kernelspec": {
   "display_name": "Python 3.9.6 64-bit",
   "language": "python",
   "name": "python3"
  },
  "language_info": {
   "codemirror_mode": {
    "name": "ipython",
    "version": 3
   },
   "file_extension": ".py",
   "mimetype": "text/x-python",
   "name": "python",
   "nbconvert_exporter": "python",
   "pygments_lexer": "ipython3",
   "version": "3.9.6"
  },
  "orig_nbformat": 4
 },
 "nbformat": 4,
 "nbformat_minor": 2
}
