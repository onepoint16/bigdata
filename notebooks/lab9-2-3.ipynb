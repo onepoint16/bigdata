{
 "cells": [
  {
   "cell_type": "markdown",
   "metadata": {},
   "source": [
    "# Lab 9\n",
    "## Data analysis 2\n",
    "### Task 2 Construct a SVM classifier"
   ]
  },
  {
   "cell_type": "markdown",
   "metadata": {},
   "source": [
    "In this task, we will build a SVM classifier based on the diabetes dataset. The classifier can\n",
    "be used to predict of a patient has (label = ‘1’) diabetes or not (label = ‘0’)."
   ]
  },
  {
   "cell_type": "markdown",
   "metadata": {},
   "source": [
    "1. Download the data file “diabetes_with_head.csv” from GCULearn"
   ]
  },
  {
   "cell_type": "markdown",
   "metadata": {},
   "source": [
    "2. Import the required libraries"
   ]
  },
  {
   "cell_type": "code",
   "execution_count": 2,
   "metadata": {},
   "outputs": [],
   "source": [
    "# load libraries\n",
    "\n",
    "import pandas as pd\n",
    "import seaborn as sns \n",
    "import numpy as np \n",
    "import matplotlib.pyplot as plt \n",
    "from sklearn.model_selection import train_test_split\n",
    "from sklearn.svm import SVC\n",
    "from sklearn import metrics"
   ]
  },
  {
   "cell_type": "markdown",
   "metadata": {},
   "source": [
    "3. Import the ‘diabetes_with_head’ dataset "
   ]
  },
  {
   "cell_type": "code",
   "execution_count": 3,
   "metadata": {},
   "outputs": [
    {
     "name": "stdout",
     "output_type": "stream",
     "text": [
      "(768, 9)\n"
     ]
    },
    {
     "data": {
      "text/html": [
       "<div>\n",
       "<style scoped>\n",
       "    .dataframe tbody tr th:only-of-type {\n",
       "        vertical-align: middle;\n",
       "    }\n",
       "\n",
       "    .dataframe tbody tr th {\n",
       "        vertical-align: top;\n",
       "    }\n",
       "\n",
       "    .dataframe thead th {\n",
       "        text-align: right;\n",
       "    }\n",
       "</style>\n",
       "<table border=\"1\" class=\"dataframe\">\n",
       "  <thead>\n",
       "    <tr style=\"text-align: right;\">\n",
       "      <th></th>\n",
       "      <th>pregnant</th>\n",
       "      <th>glucose</th>\n",
       "      <th>bp</th>\n",
       "      <th>skin</th>\n",
       "      <th>insulin</th>\n",
       "      <th>BMI</th>\n",
       "      <th>pedigree</th>\n",
       "      <th>age</th>\n",
       "      <th>label</th>\n",
       "    </tr>\n",
       "  </thead>\n",
       "  <tbody>\n",
       "    <tr>\n",
       "      <th>0</th>\n",
       "      <td>6</td>\n",
       "      <td>148</td>\n",
       "      <td>72</td>\n",
       "      <td>35</td>\n",
       "      <td>0</td>\n",
       "      <td>33.6</td>\n",
       "      <td>0.627</td>\n",
       "      <td>50</td>\n",
       "      <td>1</td>\n",
       "    </tr>\n",
       "    <tr>\n",
       "      <th>1</th>\n",
       "      <td>1</td>\n",
       "      <td>85</td>\n",
       "      <td>66</td>\n",
       "      <td>29</td>\n",
       "      <td>0</td>\n",
       "      <td>26.6</td>\n",
       "      <td>0.351</td>\n",
       "      <td>31</td>\n",
       "      <td>0</td>\n",
       "    </tr>\n",
       "    <tr>\n",
       "      <th>2</th>\n",
       "      <td>8</td>\n",
       "      <td>183</td>\n",
       "      <td>64</td>\n",
       "      <td>0</td>\n",
       "      <td>0</td>\n",
       "      <td>23.3</td>\n",
       "      <td>0.672</td>\n",
       "      <td>32</td>\n",
       "      <td>1</td>\n",
       "    </tr>\n",
       "    <tr>\n",
       "      <th>3</th>\n",
       "      <td>1</td>\n",
       "      <td>89</td>\n",
       "      <td>66</td>\n",
       "      <td>23</td>\n",
       "      <td>94</td>\n",
       "      <td>28.1</td>\n",
       "      <td>0.167</td>\n",
       "      <td>21</td>\n",
       "      <td>0</td>\n",
       "    </tr>\n",
       "    <tr>\n",
       "      <th>4</th>\n",
       "      <td>0</td>\n",
       "      <td>137</td>\n",
       "      <td>40</td>\n",
       "      <td>35</td>\n",
       "      <td>168</td>\n",
       "      <td>43.1</td>\n",
       "      <td>2.288</td>\n",
       "      <td>33</td>\n",
       "      <td>1</td>\n",
       "    </tr>\n",
       "  </tbody>\n",
       "</table>\n",
       "</div>"
      ],
      "text/plain": [
       "   pregnant  glucose  bp  skin  insulin   BMI  pedigree  age  label\n",
       "0         6      148  72    35        0  33.6     0.627   50      1\n",
       "1         1       85  66    29        0  26.6     0.351   31      0\n",
       "2         8      183  64     0        0  23.3     0.672   32      1\n",
       "3         1       89  66    23       94  28.1     0.167   21      0\n",
       "4         0      137  40    35      168  43.1     2.288   33      1"
      ]
     },
     "execution_count": 3,
     "metadata": {},
     "output_type": "execute_result"
    }
   ],
   "source": [
    "df2 = pd.read_csv(\"../lab9/diabetes_with_head.csv\")\n",
    "print(df2.shape)\n",
    "\n",
    "df2.head()"
   ]
  },
  {
   "cell_type": "markdown",
   "metadata": {},
   "source": [
    "4. Data exploring and pre-processing\n",
    "The imported ‘diabetes_with_head’ dataset is the same one we used in week 8 lab.\n",
    "So the data exploring process will not be repeated here. As revealed in week 8 lab,\n",
    "there is no duplicated rows in this dataset, no null values, while zero values in the\n",
    "\"glucose\",\"bp\",\"skin\",\"insulin\",\"BMI\" columns should be treated as invalid/ missing\n",
    "values. Same as week 8, we will impute those invalid values with column mean:"
   ]
  },
  {
   "cell_type": "code",
   "execution_count": 4,
   "metadata": {},
   "outputs": [
    {
     "name": "stdout",
     "output_type": "stream",
     "text": [
      "glucose      5\n",
      "bp          35\n",
      "skin       227\n",
      "insulin    374\n",
      "BMI         11\n",
      "dtype: int64\n",
      "pregnant      0\n",
      "glucose       5\n",
      "bp           35\n",
      "skin        227\n",
      "insulin     374\n",
      "BMI          11\n",
      "pedigree      0\n",
      "age           0\n",
      "label         0\n",
      "dtype: int64\n",
      "   pregnant  glucose    bp  skin  insulin   BMI  pedigree  age  label\n",
      "0         6    148.0  72.0  35.0      NaN  33.6     0.627   50      1\n",
      "1         1     85.0  66.0  29.0      NaN  26.6     0.351   31      0\n",
      "2         8    183.0  64.0   NaN      NaN  23.3     0.672   32      1\n",
      "3         1     89.0  66.0  23.0     94.0  28.1     0.167   21      0\n",
      "4         0    137.0  40.0  35.0    168.0  43.1     2.288   33      1\n",
      "5         5    116.0  74.0   NaN      NaN  25.6     0.201   30      0\n",
      "6         3     78.0  50.0  32.0     88.0  31.0     0.248   26      1\n",
      "7        10    115.0   NaN   NaN      NaN  35.3     0.134   29      0\n",
      "8         2    197.0  70.0  45.0    543.0  30.5     0.158   53      1\n",
      "9         8    125.0  96.0   NaN      NaN   NaN     0.232   54      1\n",
      "pregnant    0\n",
      "glucose     0\n",
      "bp          0\n",
      "skin        0\n",
      "insulin     0\n",
      "BMI         0\n",
      "pedigree    0\n",
      "age         0\n",
      "label       0\n",
      "dtype: int64\n",
      "   pregnant  glucose         bp      skin     insulin        BMI  pedigree  \\\n",
      "0         6    148.0  72.000000  35.00000  155.548223  33.600000     0.627   \n",
      "1         1     85.0  66.000000  29.00000  155.548223  26.600000     0.351   \n",
      "2         8    183.0  64.000000  29.15342  155.548223  23.300000     0.672   \n",
      "3         1     89.0  66.000000  23.00000   94.000000  28.100000     0.167   \n",
      "4         0    137.0  40.000000  35.00000  168.000000  43.100000     2.288   \n",
      "5         5    116.0  74.000000  29.15342  155.548223  25.600000     0.201   \n",
      "6         3     78.0  50.000000  32.00000   88.000000  31.000000     0.248   \n",
      "7        10    115.0  72.405184  29.15342  155.548223  35.300000     0.134   \n",
      "8         2    197.0  70.000000  45.00000  543.000000  30.500000     0.158   \n",
      "9         8    125.0  96.000000  29.15342  155.548223  32.457464     0.232   \n",
      "\n",
      "   age  label  \n",
      "0   50      1  \n",
      "1   31      0  \n",
      "2   32      1  \n",
      "3   21      0  \n",
      "4   33      1  \n",
      "5   30      0  \n",
      "6   26      1  \n",
      "7   29      0  \n",
      "8   53      1  \n",
      "9   54      1  \n"
     ]
    }
   ],
   "source": [
    "# count number of missing values in each of the columns\n",
    "print((df2[[\"glucose\", \"bp\", \"skin\", \"insulin\", \"BMI\"]] == 0).sum())\n",
    "\n",
    "# mark zero values as missing (with the value of Nan)\n",
    "df2[[\"glucose\", \"bp\", \"skin\", \"insulin\", \"BMI\"]] = df2[[\"glucose\", \"bp\", \"skin\", \"insulin\", \"BMI\"]].replace(0, np.NaN)\n",
    "\n",
    "# check the number of NaN values in each column\n",
    "print(df2.isnull().sum())\n",
    "\n",
    "# print the first 10 rows of data\n",
    "print(df2.head(10))\n",
    "\n",
    "# fill missing values with mean column values\n",
    "df2.fillna(df2.mean(), inplace=True)\n",
    "\n",
    "# check if there is still any NaN values in the dataset\n",
    "print(df2.isnull().sum())\n",
    "\n",
    "# check the imputated the first 10 rows of data\n",
    "print(df2.head(10))\n",
    "\n"
   ]
  },
  {
   "cell_type": "markdown",
   "metadata": {},
   "source": [
    "Also, as explored in week 8, variables in this data are not significantly correlated, so\n",
    "no further processes"
   ]
  },
  {
   "cell_type": "markdown",
   "metadata": {},
   "source": [
    "5. Specify the input variables X and the target variable y.\n",
    "\n",
    "We will use the first eight columns as input variable and the last column, i.e., label, as\n",
    "target variable to build a SVM classifier."
   ]
  },
  {
   "cell_type": "code",
   "execution_count": 5,
   "metadata": {},
   "outputs": [
    {
     "name": "stdout",
     "output_type": "stream",
     "text": [
      "   pregnant  glucose    bp      skin     insulin   BMI  pedigree  age\n",
      "0         6    148.0  72.0  35.00000  155.548223  33.6     0.627   50\n",
      "1         1     85.0  66.0  29.00000  155.548223  26.6     0.351   31\n",
      "2         8    183.0  64.0  29.15342  155.548223  23.3     0.672   32\n",
      "3         1     89.0  66.0  23.00000   94.000000  28.1     0.167   21\n",
      "4         0    137.0  40.0  35.00000  168.000000  43.1     2.288   33\n",
      "0    1\n",
      "1    0\n",
      "2    1\n",
      "3    0\n",
      "4    1\n",
      "Name: label, dtype: int64\n"
     ]
    }
   ],
   "source": [
    "# split dataset into input variable x and target variable y\n",
    "x = df2.drop(['label'], axis=1)\n",
    "y = df2.label \n",
    "\n",
    "# check that the class variable has been removed\n",
    "print(x.head())\n",
    "\n",
    "# view target values\n",
    "print(y[0:5])\n"
   ]
  },
  {
   "cell_type": "markdown",
   "metadata": {},
   "source": [
    "6. Specify the training, validation and test datasets\n",
    "The dataset will be split into three pieces (70% as training set, 15% as validation set\n",
    "and 15 as test set) by using the ‘train_test_split’ function from sklearn twice. The\n",
    "validation data will be used to check the accuracy of the model during the tuning\n",
    "process. The test data will be used to test the accuracy of the model obtained after\n",
    "the tuning process."
   ]
  },
  {
   "cell_type": "code",
   "execution_count": 6,
   "metadata": {},
   "outputs": [
    {
     "name": "stdout",
     "output_type": "stream",
     "text": [
      "sixe of the training x:  (537, 8)\n",
      "size of the validation x:  (115, 8)\n",
      "size of the test x:  (116, 8)\n"
     ]
    }
   ],
   "source": [
    "## Specify the training, validation and test dataset\n",
    "\n",
    "# Specify the training set: 70% for training\n",
    "\n",
    "x_train, x_tmp, y_train,y_tmp = train_test_split(x, y, test_size=0.3, random_state=1)\n",
    "\n",
    "print(\"sixe of the training x: \", x_train.shape)\n",
    "\n",
    "# split the rest of the 30% dataset further into validation data set and test dataset\n",
    "\n",
    "x_validation, x_test, y_validation, y_test = train_test_split(x_tmp, y_tmp, test_size=0.5, random_state=1)\n",
    "\n",
    "print(\"size of the validation x: \", x_validation.shape)\n",
    "\n",
    "print(\"size of the test x: \", x_test.shape)"
   ]
  },
  {
   "cell_type": "markdown",
   "metadata": {},
   "source": [
    "7. Construct the SVM classifier clf1. Use the ‘fit’ function and pass in the specified\n",
    "training data as parameters to train the SVM classifier."
   ]
  },
  {
   "cell_type": "code",
   "execution_count": 7,
   "metadata": {},
   "outputs": [],
   "source": [
    "# create SVM classifier object\n",
    "clf1 = SVC()\n",
    "\n",
    "# Train the SVM Classifier\n",
    "clf1 = clf1.fit(x_train, y_train)"
   ]
  },
  {
   "cell_type": "markdown",
   "metadata": {},
   "source": [
    "8. Validate the accuracy of the model\n",
    "Once the model is trained, we can use the ‘predict’ function on our model to make\n",
    "predictions on the validation data and calculate the accuracy score."
   ]
  },
  {
   "cell_type": "code",
   "execution_count": 8,
   "metadata": {},
   "outputs": [
    {
     "name": "stdout",
     "output_type": "stream",
     "text": [
      "Accuracy:  0.7565217391304347\n"
     ]
    }
   ],
   "source": [
    "# predict the response for validation dataset\n",
    "y_pred1 = clf1.predict(x_validation)\n",
    "\n",
    "# validate the model accuracy, how often is the claddifier correct?\n",
    "\n",
    "print(\"Accuracy: \", metrics.accuracy_score(y_validation, y_pred1))"
   ]
  },
  {
   "cell_type": "markdown",
   "metadata": {},
   "source": [
    "Which means, the SVM classifier clf1 has an accuracy of approximately 75.65%."
   ]
  },
  {
   "cell_type": "markdown",
   "metadata": {},
   "source": [
    "9. Tune the SVM model\n",
    "AS described on https://scikitlearn.org/stable/modules/generated/sklearn.svm.SVC.html, sklearn.svm.SVC has\n",
    "multiple parameters as shown below:\n",
    "\n",
    "In step 7, the SVM classifier clf1 was created with all parameters set to default\n",
    "values. Now, let us change the kernel type from the default one, which is ‘rbf’, to\n",
    "‘linear’:"
   ]
  },
  {
   "cell_type": "code",
   "execution_count": 9,
   "metadata": {},
   "outputs": [
    {
     "name": "stdout",
     "output_type": "stream",
     "text": [
      "Accuracy:  0.782608695652174\n"
     ]
    }
   ],
   "source": [
    "## tune the svm model using different hyper-paremater\n",
    "\n",
    "# create another svm classifier object with 'linear'\n",
    "clf2 = SVC(kernel = 'linear')\n",
    "\n",
    "# train SVM classifier\n",
    "clf2 = clf2.fit(x_train, y_train)\n",
    "\n",
    "# predict the response for the validation dataset\n",
    "y_pred2 = clf2.predict(x_validation)\n",
    "\n",
    "# validate the model accuracy, how often is the classifier correct?\n",
    "\n",
    "print(\"Accuracy: \", metrics.accuracy_score(y_validation, y_pred2))"
   ]
  },
  {
   "cell_type": "markdown",
   "metadata": {},
   "source": [
    "This demonstrated that the new SVM classifier clf2 has an accuracy of\n",
    "approximately 78.26%.\n",
    "Between clf1 and clf2, clf2 achieved better validation result, so clf2 has been take\n",
    "as the tuned SVM model for this dataset."
   ]
  },
  {
   "cell_type": "markdown",
   "metadata": {},
   "source": [
    "10. Test the tuned model with the specified test data"
   ]
  },
  {
   "cell_type": "code",
   "execution_count": 10,
   "metadata": {},
   "outputs": [
    {
     "name": "stdout",
     "output_type": "stream",
     "text": [
      "Accuracy:  0.7758620689655172\n"
     ]
    }
   ],
   "source": [
    "# Test the tuned model with the specified test dataset\n",
    "y_pred = clf2.predict(x_test)\n",
    "\n",
    "# validate the model accuracy, how often is the classifie correct \n",
    "print(\"Accuracy: \", metrics.accuracy_score(y_test, y_pred))"
   ]
  },
  {
   "cell_type": "markdown",
   "metadata": {},
   "source": [
    "So the test accuracy of the tuned model is 77.59%."
   ]
  },
  {
   "cell_type": "markdown",
   "metadata": {},
   "source": [
    "11. Further model tuning\n",
    "Try to tune the SVM model classifier further using different values for the parameters,\n",
    "check the accuracy to be achieved with validation data.\n",
    "Select the SVM classifier with best accuracy on validation data as the tuned SVM\n",
    "model. Using this tuned model to predict the label for test data and calculate the\n",
    "accuracy."
   ]
  },
  {
   "cell_type": "markdown",
   "metadata": {},
   "source": [
    "# Lab 9\n",
    "## Data analysis 2\n",
    "### Task 3 Construct a NN classifier"
   ]
  },
  {
   "cell_type": "markdown",
   "metadata": {},
   "source": [
    "In this task, a NN classifier will be created with the diabetes dataset imported in task 2. Data\n",
    "import and data prepare will be conducted in the same way as step 1-6 in task 2. Then a NN\n",
    "classifier is created:"
   ]
  },
  {
   "cell_type": "markdown",
   "metadata": {},
   "source": [
    "1. Construct a NN classifier mlp with one hidden layer including 15 neurons. Use the\n",
    "‘fit’ function and pass in the specified training data as parameters to train the NN\n",
    "classifier. Then predict the response for training data and validation data."
   ]
  },
  {
   "cell_type": "code",
   "execution_count": 12,
   "metadata": {},
   "outputs": [
    {
     "name": "stderr",
     "output_type": "stream",
     "text": [
      "C:\\Users\\every\\AppData\\Local\\Programs\\Python\\Python39\\lib\\site-packages\\sklearn\\neural_network\\_multilayer_perceptron.py:692: ConvergenceWarning: Stochastic Optimizer: Maximum iterations (200) reached and the optimization hasn't converged yet.\n",
      "  warnings.warn(\n"
     ]
    }
   ],
   "source": [
    "# import the NN classifier\n",
    "\n",
    "from sklearn.neural_network import MLPClassifier\n",
    "\n",
    "# create a NN classifier object\n",
    "mlp = MLPClassifier(hidden_layer_sizes=(15))\n",
    "\n",
    "# train the NN classifier\n",
    "mlp.fit(x_train, y_train)\n",
    "\n",
    "# predict the response for the validation data\n",
    "predict_vali = mlp.predict(x_validation)"
   ]
  },
  {
   "cell_type": "markdown",
   "metadata": {},
   "source": [
    "2. get the accuracy for the validation dataset"
   ]
  },
  {
   "cell_type": "code",
   "execution_count": 13,
   "metadata": {},
   "outputs": [
    {
     "name": "stdout",
     "output_type": "stream",
     "text": [
      "Accuracy:  0.7304347826086957\n"
     ]
    }
   ],
   "source": [
    "# get the prediction accuracy for the validation dataset\n",
    "print(\"Accuracy: \", metrics.accuracy_score(y_validation, predict_vali))"
   ]
  },
  {
   "cell_type": "markdown",
   "metadata": {},
   "source": [
    "Which means, the NN classifier mlp has an accuracy of approximately 73.04%."
   ]
  },
  {
   "cell_type": "markdown",
   "metadata": {},
   "source": [
    "3. Tune the NN model\n",
    "As described on https://scikitlearn.org/stable/modules/generated/sklearn.neural_network.MLPClassifier.html,\n",
    "sklearn.neural_network.MLPClassifier has multiple parameters as shown below:"
   ]
  },
  {
   "cell_type": "markdown",
   "metadata": {},
   "source": [
    "In step 2, the NN classifier mlp was created with one hidden layer including 15\n",
    "neurons and all other parameters set to default values. Try to tune the NN model\n",
    "classifier further using different values for the parameters, check the accuracy to be\n",
    "achieved with validation data.\n",
    "Select the NN classifier with best accuracy on validation data as the tuned NN model.\n",
    "Using this tuned model to predict the label for test data and calculate the accuracy.\n",
    "Comparing the accuracy of the tuned NN model with the accuracy of the tuned SVM\n",
    "model obtained in task2, identify which model performance better with this dataset."
   ]
  }
 ],
 "metadata": {
  "interpreter": {
   "hash": "0614d55347d2583dc6bd1a768c7d288a89492254c989babe318512d0e8d86257"
  },
  "kernelspec": {
   "display_name": "Python 3.9.6 64-bit",
   "language": "python",
   "name": "python3"
  },
  "language_info": {
   "codemirror_mode": {
    "name": "ipython",
    "version": 3
   },
   "file_extension": ".py",
   "mimetype": "text/x-python",
   "name": "python",
   "nbconvert_exporter": "python",
   "pygments_lexer": "ipython3",
   "version": "3.9.7"
  },
  "orig_nbformat": 4
 },
 "nbformat": 4,
 "nbformat_minor": 2
}
