{
 "cells": [
  {
   "cell_type": "markdown",
   "id": "fe299c74",
   "metadata": {},
   "source": [
    "# Exercise 1\n",
    "A python function to calculate a **power**"
   ]
  },
  {
   "cell_type": "code",
   "execution_count": 1,
   "id": "e8d5ba8c",
   "metadata": {},
   "outputs": [
    {
     "name": "stdout",
     "output_type": "stream",
     "text": [
      "8\n",
      "10000\n"
     ]
    }
   ],
   "source": [
    "def power(value, power):\n",
    "    result = 1\n",
    "    for i in range(0, power):\n",
    "        result = result * value\n",
    "    return result\n",
    "\n",
    "print(power(2,3))\n",
    "print(power(10,4))"
   ]
  },
  {
   "cell_type": "code",
   "execution_count": 2,
   "id": "1465c48d",
   "metadata": {},
   "outputs": [
    {
     "name": "stdout",
     "output_type": "stream",
     "text": [
      "test\n"
     ]
    }
   ],
   "source": [
    "print(\"test\")"
   ]
  },
  {
   "cell_type": "code",
   "execution_count": 3,
   "id": "49e44988",
   "metadata": {},
   "outputs": [
    {
     "name": "stdout",
     "output_type": "stream",
     "text": [
      "id,first_name,last_name,age,preTestScore,postTestScore\n",
      "0,Harry, ,Potter,21,4,25000\n",
      "1,Micky,Mouse,19,24,94000\n",
      "2,Peter,,20,31,57\n",
      "3,Tina,Pong,22,,62\n",
      "4,Curz,Lee,21,,70\n"
     ]
    }
   ],
   "source": [
    "import csv\n",
    "\n",
    "with open('score.csv', 'r') as csvfile:\n",
    "    scorereader = csv.reader(csvfile, delimiter=' ', quotechar='|')\n",
    "    for row in scorereader:\n",
    "        print(', '.join(row))"
   ]
  },
  {
   "cell_type": "code",
   "execution_count": 4,
   "metadata": {},
   "outputs": [],
   "source": [
    "import csv\n",
    "\n",
    "with open('score_2.csv', 'w') as csvfile:\n",
    "    scorewriter = csv.writer(csvfile, delimiter=' ', quotechar='|', quoting=csv.QUOTE_MINIMAL)\n",
    "    scorewriter.writerow([5, 'Neil', 'Armstrong', 25, 42, 68])\n"
   ]
  },
  {
   "cell_type": "code",
   "execution_count": 5,
   "metadata": {},
   "outputs": [
    {
     "name": "stdout",
     "output_type": "stream",
     "text": [
      "5, Neil, Armstrong, 25, 42, 68\n"
     ]
    }
   ],
   "source": [
    "import csv\n",
    "\n",
    "with open('score_2.csv', 'r') as csvfile:\n",
    "    scorereader = csv.reader(csvfile, delimiter=' ', quotechar='|')\n",
    "    for row in scorereader:\n",
    "        print(', '.join(row))"
   ]
  },
  {
   "cell_type": "code",
   "execution_count": 9,
   "metadata": {},
   "outputs": [
    {
     "name": "stdout",
     "output_type": "stream",
     "text": [
      "   id first_name last_name  age  preTestScore  postTestScore\n",
      "0   0     Harry     Potter   21           4.0          25000\n",
      "1   1      Micky     Mouse   19          24.0          94000\n",
      "2   2      Peter       NaN   20          31.0             57\n",
      "3   3       Tina      Pong   22           NaN             62\n",
      "4   4       Curz       Lee   21           NaN             70\n",
      "0    Harry \n",
      "1     Micky\n",
      "2     Peter\n",
      "3      Tina\n",
      "4      Curz\n",
      "Name: first_name, dtype: object\n",
      "0    Potter\n",
      "1     Mouse\n",
      "2       NaN\n",
      "3      Pong\n",
      "4       Lee\n",
      "Name: last_name, dtype: object\n",
      "    0           1          2    3             4              5\n",
      "0  id  first_name  last_name  age  preTestScore  postTestScore\n",
      "1   0      Harry      Potter   21             4          25000\n",
      "2   1       Micky      Mouse   19            24          94000\n",
      "3   2       Peter        NaN   20            31             57\n",
      "4   3        Tina       Pong   22           NaN             62\n",
      "5   4        Curz        Lee   21           NaN             70\n"
     ]
    }
   ],
   "source": [
    "import pandas as pd\n",
    "\n",
    "df = pd.read_csv('score.csv')\n",
    "print(df)\n",
    "\n",
    "print(df['first_name'])\n",
    "\n",
    "print(df['last_name'])\n",
    "\n",
    "df = pd.read_csv('score.csv', header = None)\n",
    "print(df)"
   ]
  }
 ],
 "metadata": {
  "interpreter": {
   "hash": "aee8b7b246df8f9039afb4144a1f6fd8d2ca17a180786b69acc140d282b71a49"
  },
  "kernelspec": {
   "display_name": "Python 3.9.7 64-bit",
   "name": "python3"
  },
  "language_info": {
   "codemirror_mode": {
    "name": "ipython",
    "version": 3
   },
   "file_extension": ".py",
   "mimetype": "text/x-python",
   "name": "python",
   "nbconvert_exporter": "python",
   "pygments_lexer": "ipython3",
   "version": "3.9.7"
  }
 },
 "nbformat": 4,
 "nbformat_minor": 5
}
