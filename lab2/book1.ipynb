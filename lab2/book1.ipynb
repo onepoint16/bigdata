{
 "cells": [
  {
   "cell_type": "markdown",
   "id": "fe299c74",
   "metadata": {},
   "source": [
    "# Exercise 1\n",
    "A python function to calculate a **power**"
   ]
  },
  {
   "cell_type": "code",
   "execution_count": 2,
   "id": "e8d5ba8c",
   "metadata": {},
   "outputs": [
    {
     "name": "stdout",
     "output_type": "stream",
     "text": [
      "8\n",
      "10000\n"
     ]
    }
   ],
   "source": [
    "def power(value, power):\n",
    "    result = 1\n",
    "    for i in range(0, power):\n",
    "        result = result * value\n",
    "    return result\n",
    "\n",
    "print(power(2,3))\n",
    "print(power(10,4))"
   ]
  },
  {
   "cell_type": "code",
   "execution_count": null,
   "id": "1465c48d",
   "metadata": {},
   "outputs": [],
   "source": []
  },
  {
   "cell_type": "code",
   "execution_count": null,
   "id": "49e44988",
   "metadata": {},
   "outputs": [],
   "source": []
  }
 ],
 "metadata": {
  "kernelspec": {
   "display_name": "Python 3 (ipykernel)",
   "language": "python",
   "name": "python3"
  },
  "language_info": {
   "codemirror_mode": {
    "name": "ipython",
    "version": 3
   },
   "file_extension": ".py",
   "mimetype": "text/x-python",
   "name": "python",
   "nbconvert_exporter": "python",
   "pygments_lexer": "ipython3",
   "version": "3.9.7"
  }
 },
 "nbformat": 4,
 "nbformat_minor": 5
}
